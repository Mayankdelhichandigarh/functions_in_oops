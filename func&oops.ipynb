{
 "cells": [
  {
   "cell_type": "markdown",
   "metadata": {},
   "source": [
    "## Assignment: Object Oriented Programming"
   ]
  },
  {
   "cell_type": "markdown",
   "metadata": {},
   "source": [
    "#1 Explain the importance  of Functions.\n",
    "\n",
    "Answer:\n",
    "\n",
    "Code Reusability: Functions allow you to write code once and reuse it multiple times. This reduces redundancy and helps maintain cleaner, more organized code.\n",
    "\n",
    "Modularity: Functions help break a large program into smaller, manageable chunks or modules. Each function can handle a specific task, making the code easier to understand, test, and maintain.\n",
    "\n",
    "Maintainability: By organizing code into functions, it becomes easier to identify and fix bugs, as each function is usually responsible for a single task.\n",
    "\n",
    "Readability: Functions enhance code readability by providing descriptive names and breaking down complex logic into simpler steps.\n",
    "\n",
    "Abstraction: Functions allow you to hide complex logic behind a simple interface. This abstraction makes it easier to work with code, as you don’t need to understand the inner workings of a function to use it.\n",
    "\n",
    "Avoiding Repetition: By using functions, you avoid having to write the same code in multiple places. This reduces the likelihood of errors and makes updates easier.\n",
    "\n",
    "Parameterization: Functions can take inputs (parameters) and return outputs (results). This enables the same function to perform different tasks based on the input provided.\n",
    "\n",
    "Scope Management: Functions help in managing the scope of variables, ensuring that variables within a function don't interfere with those outside it, which improves data encapsulation."
   ]
  },
  {
   "cell_type": "code",
   "execution_count": 11,
   "metadata": {},
   "outputs": [
    {
     "name": "stdout",
     "output_type": "stream",
     "text": [
      "Hello, Welcome to this course Mayank\n"
     ]
    }
   ],
   "source": [
    "#2 write a basic function to greet students.\n",
    "\n",
    "#code \n",
    "def greet_student(name = \"\"):\n",
    "    print(\"Hello, Welcome to this course\", name)\n",
    "\n",
    "greet_student(\"Mayank\")\n"
   ]
  },
  {
   "cell_type": "markdown",
   "metadata": {},
   "source": [
    "#3 what is the difference between print and return statements?\n",
    "\n",
    "Answer:\n",
    "\n",
    "1. Functionality:\n",
    "print: Outputs the value to the console or terminal but doesn’t give anything back to the caller. It is typically used for displaying information to the user.\n",
    "return: Exits the function and sends a value back to the function's caller. It is used when you want to pass data from a function to another part of the program.\n",
    "2. Where They're Used:\n",
    "print: Can be used anywhere in your code to show output, but it doesn’t influence the flow of the program beyond that.\n",
    "return: Is used inside functions to provide an output to the code that called the function. It’s necessary for using a function's result elsewhere in the code.\n",
    "3. Effect on Code Execution:\n",
    "print: Does not stop the function execution. It just prints the value and allows the code to continue.\n",
    "return: Stops the function execution immediately. Once a return statement is encountered, no further code in that function is executed.\n",
    "4. Output Location:\n",
    "print: Displays output to the screen (standard output), but doesn’t store or return a value that can be used later.\n",
    "return: Passes a value back to the point where the function was called, allowing the program to store and manipulate that value.\n"
   ]
  },
  {
   "cell_type": "code",
   "execution_count": 21,
   "metadata": {},
   "outputs": [
    {
     "name": "stdout",
     "output_type": "stream",
     "text": [
      "1\n",
      "2\n",
      "3\n",
      "name = Alice\n",
      "age = 25\n",
      "city = New York\n"
     ]
    }
   ],
   "source": [
    "#4 what are *args and **kwargs?\n",
    "\n",
    "#Answer:\n",
    "\n",
    "# *args (Variable Positional Arguments):\n",
    "# Purpose: Used to pass a variable number of positional arguments to a function. It allows the function to accept more arguments than initially specified.\n",
    "# How it Works: Inside the function, *args is treated as a tuple containing all the additional positional arguments passed to the function.\n",
    "# examle\n",
    "\n",
    "def demo_args(*args):\n",
    "    for item in args:\n",
    "        print(item)\n",
    "\n",
    "demo_args(1,2,3)\n",
    "\n",
    "# **kwargs (Variable Keyword Arguments):\n",
    "# Purpose: Used to pass a variable number of keyword arguments (arguments that are passed in key-value pairs) to a function.\n",
    "# How it Works: Inside the function, **kwargs is treated as a dictionary containing all the keyword arguments passed.\n",
    "# examle\n",
    "def demo_kwargs(**kwargs):\n",
    "    for key, value in kwargs.items():\n",
    "        print(f\"{key} = {value}\")\n",
    "\n",
    "demo_kwargs(name=\"Alice\", age=25, city=\"New York\")"
   ]
  },
  {
   "cell_type": "markdown",
   "metadata": {},
   "source": [
    "#5 Explain the iterator function?\n",
    "\n",
    "An iterator in Python is an object that allows you to traverse through all the elements of a collection (like a list, tuple, or dictionary) one by one, without needing to know the underlying structure. The iterator protocol consists of two key methods: __iter__() and __next__().\n",
    "\n",
    "example code below"
   ]
  },
  {
   "cell_type": "code",
   "execution_count": 22,
   "metadata": {},
   "outputs": [
    {
     "name": "stdout",
     "output_type": "stream",
     "text": [
      "1\n",
      "2\n",
      "3\n",
      "4\n"
     ]
    }
   ],
   "source": [
    "#code\n",
    "my_list = [1, 2, 3, 4]\n",
    "my_iterator = iter(my_list)  # Get an iterator from an iterable\n",
    "\n",
    "print(next(my_iterator))  # Output: 1\n",
    "print(next(my_iterator))  # Output: 2\n",
    "print(next(my_iterator))  # Output: 3\n",
    "print(next(my_iterator))  # Output: 4\n",
    "# If you call next() again, it will raise a StopIteration error since there are no more elements"
   ]
  },
  {
   "cell_type": "code",
   "execution_count": 25,
   "metadata": {},
   "outputs": [
    {
     "name": "stdout",
     "output_type": "stream",
     "text": [
      "1\n",
      "4\n",
      "9\n",
      "16\n",
      "25\n",
      "36\n",
      "49\n",
      "64\n",
      "81\n",
      "100\n"
     ]
    }
   ],
   "source": [
    "#6 write a code that generates the squares of a numbers from 1 to n using a generator.\n",
    "\n",
    "#code\n",
    "def square_numbers(n):\n",
    "    return (i * i for i in range(1, n + 1))\n",
    "\n",
    "n = 10\n",
    "squares_generator = square_numbers(n)\n",
    "\n",
    "\n",
    "for square in squares_generator:\n",
    "     print(square)"
   ]
  },
  {
   "cell_type": "code",
   "execution_count": 26,
   "metadata": {},
   "outputs": [
    {
     "name": "stdout",
     "output_type": "stream",
     "text": [
      "0\n",
      "1\n",
      "2\n",
      "3\n",
      "4\n",
      "5\n",
      "6\n",
      "7\n",
      "8\n",
      "9\n",
      "11\n",
      "22\n",
      "33\n",
      "44\n",
      "55\n",
      "66\n",
      "77\n",
      "88\n",
      "99\n"
     ]
    }
   ],
   "source": [
    "#7 write a code that generates palindromic number upto n using generator. \n",
    "\n",
    "#code\n",
    "def is_palindrome(num):\n",
    "    return str(num) == str(num)[::-1]\n",
    "\n",
    "def palindromic_number(n):\n",
    "    for i in range(n+1):\n",
    "        flag = is_palindrome(i)\n",
    "        if(flag):\n",
    "            yield i\n",
    "\n",
    "n = 100\n",
    "palindrome_generator = palindromic_number(n)\n",
    "\n",
    "for palindrome in palindrome_generator:\n",
    "    print(palindrome)\n",
    "    "
   ]
  },
  {
   "cell_type": "code",
   "execution_count": 32,
   "metadata": {},
   "outputs": [
    {
     "name": "stdout",
     "output_type": "stream",
     "text": [
      "2\n",
      "4\n",
      "6\n",
      "8\n",
      "10\n",
      "12\n",
      "14\n",
      "16\n",
      "18\n",
      "20\n"
     ]
    }
   ],
   "source": [
    "#8 write a code that generates even numbers from 2 to n using a generator.\n",
    "\n",
    "#code\n",
    "def check_even(num):\n",
    "    return num%2==0\n",
    "\n",
    "def find_even(n):\n",
    "    for i in range(1, n+1):\n",
    "        flag = check_even(i)\n",
    "        if(flag):\n",
    "            yield i\n",
    "\n",
    "n = 20\n",
    "\n",
    "even_generator = find_even(n)\n",
    "\n",
    "for even in even_generator:\n",
    "    print(even)"
   ]
  },
  {
   "cell_type": "code",
   "execution_count": 34,
   "metadata": {},
   "outputs": [
    {
     "name": "stdout",
     "output_type": "stream",
     "text": [
      "1\n",
      "2\n",
      "4\n",
      "8\n",
      "16\n"
     ]
    }
   ],
   "source": [
    "#9 write a code that generates powers of 2 upto n using a generator\n",
    "\n",
    "#code\n",
    "def helper(n):\n",
    "    power = 0\n",
    "    while(True):\n",
    "        value = 2**power\n",
    "        if(value>n):\n",
    "            break\n",
    "\n",
    "        yield value\n",
    "        power += 1\n",
    "\n",
    "n=20\n",
    "power_generator = helper(n)\n",
    "for i in power_generator:\n",
    "    print(i)"
   ]
  },
  {
   "cell_type": "code",
   "execution_count": 36,
   "metadata": {},
   "outputs": [
    {
     "name": "stdout",
     "output_type": "stream",
     "text": [
      "2\n",
      "3\n",
      "5\n",
      "7\n",
      "11\n",
      "13\n",
      "17\n",
      "19\n"
     ]
    }
   ],
   "source": [
    "#10 write a code that generates prime numbers upto n using a generator.\n",
    "\n",
    "#code\n",
    "def check_prime(num):\n",
    "    if(num<2):\n",
    "        return False\n",
    "\n",
    "    flag = True\n",
    "    for i in range(2, int(num**0.5) + 1): \n",
    "        if num % i == 0:\n",
    "            return False\n",
    "\n",
    "    return flag\n",
    "\n",
    "def helper(n):\n",
    "    for i in range(n+1):\n",
    "        flag = check_prime(i)\n",
    "        if(flag):\n",
    "            yield i\n",
    "\n",
    "n = 20\n",
    "prime_generator = helper(n)\n",
    "for i in prime_generator:\n",
    "    print(i)"
   ]
  },
  {
   "cell_type": "code",
   "execution_count": 43,
   "metadata": {},
   "outputs": [
    {
     "name": "stdout",
     "output_type": "stream",
     "text": [
      "sum of these two numbers is 30\n"
     ]
    }
   ],
   "source": [
    "#11 write a code that uses a lamda function to calculate the sum of two numbers.\n",
    "\n",
    "#code\n",
    "\n",
    "sum = lambda x,y: x+y\n",
    "result = sum(20,10)\n",
    "print(f\"sum of these two numbers is {result}\")"
   ]
  },
  {
   "cell_type": "code",
   "execution_count": 51,
   "metadata": {},
   "outputs": [
    {
     "name": "stdout",
     "output_type": "stream",
     "text": [
      "square of a given number is 100\n"
     ]
    }
   ],
   "source": [
    "#12 write a code that uses a lamda function to calculate the square of a given number.\n",
    "\n",
    "#code \n",
    "sq = lambda x: x**2\n",
    "result = sq(10)\n",
    "print(f\"square of a given number is {result}\")"
   ]
  },
  {
   "cell_type": "code",
   "execution_count": 64,
   "metadata": {},
   "outputs": [
    {
     "name": "stdout",
     "output_type": "stream",
     "text": [
      "Given number is Even\n"
     ]
    }
   ],
   "source": [
    "#13 write a code that uses a lamda function to check whether a given number is even or odd.\n",
    "\n",
    "#code\n",
    "checker = lambda x: \"Given number is Even\" if x%2==0 else \"Given number is Odd\"\n",
    "result = checker(10)\n",
    "print(result)"
   ]
  },
  {
   "cell_type": "markdown",
   "metadata": {},
   "source": [
    "There is no questions 14."
   ]
  },
  {
   "cell_type": "code",
   "execution_count": 73,
   "metadata": {},
   "outputs": [
    {
     "name": "stdout",
     "output_type": "stream",
     "text": [
      "hello Mayank\n"
     ]
    }
   ],
   "source": [
    "#15 write a code that uses a lamda function to concatenate two strings.\n",
    "\n",
    "#code\n",
    "result = lambda x,y: x+\" \"+y\n",
    "print(result(\"hello\", \"Mayank\"))"
   ]
  },
  {
   "cell_type": "code",
   "execution_count": 76,
   "metadata": {},
   "outputs": [
    {
     "name": "stdout",
     "output_type": "stream",
     "text": [
      "21\n"
     ]
    }
   ],
   "source": [
    "#16 write a code that uses a lamda function to find the maximum of three given numbers.\n",
    "\n",
    "#code \n",
    "result = lambda x,y,z: max(x,y,z)\n",
    "print(result(20,7,21))"
   ]
  },
  {
   "cell_type": "code",
   "execution_count": 86,
   "metadata": {},
   "outputs": [
    {
     "name": "stdout",
     "output_type": "stream",
     "text": [
      "Squares of even numbers:\n",
      "16\n",
      "4900\n",
      "100\n"
     ]
    }
   ],
   "source": [
    "#17 write a code that generates the square of even numbers from a given list\n",
    "\n",
    "def square_numbers(even_list):\n",
    "    for item in even_list:\n",
    "        yield item**2\n",
    "\n",
    "my_list = [1,4,5,70,9,10]\n",
    "\n",
    "even_list = list(filter(lambda x: x%2==0, my_list))\n",
    "\n",
    "square_generator = square_numbers(even_list)\n",
    "\n",
    "print(\"Squares of even numbers:\")\n",
    "for item in square_generator:\n",
    "    print(item)"
   ]
  },
  {
   "cell_type": "code",
   "execution_count": 88,
   "metadata": {},
   "outputs": [
    {
     "name": "stdout",
     "output_type": "stream",
     "text": [
      "48\n"
     ]
    }
   ],
   "source": [
    "#18 write a code that calculates the product of positive numbers from a given list.\n",
    "\n",
    "#code\n",
    "def product(list_positiveNum):\n",
    "    prod = 1\n",
    "    for item in list_positiveNum:\n",
    "        prod *= item\n",
    "\n",
    "    return prod\n",
    "\n",
    "my_list = [2, -4, -3, -2, -1, 1, 2, 3, 4]\n",
    "\n",
    "result = product(list(filter(lambda x:x>0, my_list)))\n",
    "print(result)"
   ]
  },
  {
   "cell_type": "code",
   "execution_count": 92,
   "metadata": {},
   "outputs": [
    {
     "name": "stdout",
     "output_type": "stream",
     "text": [
      "double values of odd numbers from a given list:  [2, 6, 10, 14, 18]\n"
     ]
    }
   ],
   "source": [
    "#19 write a code that doubles the values of odd numbers from a given list.\n",
    "\n",
    "#code\n",
    "def double(list_oddNum):\n",
    "    double_list = []\n",
    "    for item in list_oddNum:\n",
    "        double_list.append(item*2)\n",
    "\n",
    "    return double_list\n",
    "\n",
    "my_list = [1, 2, 3, 4, 5, 6, 7, 8, 9]\n",
    "\n",
    "result = double(list(filter(lambda x:x%2!=0, my_list)))\n",
    "print(\"double values of odd numbers from a given list: \", result)"
   ]
  },
  {
   "cell_type": "code",
   "execution_count": 93,
   "metadata": {},
   "outputs": [
    {
     "name": "stdout",
     "output_type": "stream",
     "text": [
      "The sum of cubes of numbers from a given list 225\n"
     ]
    }
   ],
   "source": [
    "#20 write a code that calculates the sum of cubes of numbers from a given list. \n",
    "\n",
    "#code\n",
    "my_list = [1, 2, 3, 4, 5]\n",
    "cube_list = list(map(lambda x: x**3, my_list))\n",
    "\n",
    "add = 0\n",
    "for item in cube_list:\n",
    "    add += item\n",
    "\n",
    "print(\"The sum of cubes of numbers from a given list\", add)"
   ]
  },
  {
   "cell_type": "code",
   "execution_count": 98,
   "metadata": {},
   "outputs": [
    {
     "name": "stdout",
     "output_type": "stream",
     "text": [
      "2 3 5 13 17 "
     ]
    }
   ],
   "source": [
    "#21 write a code that filters out prime numbers from a given list.\n",
    "\n",
    "#code \n",
    "def checkForPrime(num):\n",
    "    if(num<2):\n",
    "        return False\n",
    "    \n",
    "    for i in range(2, int(num**0.5)+1):\n",
    "        if(num%i == 0):\n",
    "            return False\n",
    "        \n",
    "    return True\n",
    "\n",
    "my_list = [1, 2, 3, 4, 5, 10, 13, 17, 20]\n",
    "\n",
    "result = list(filter(checkForPrime, my_list))\n",
    "for item in result:\n",
    "    print(item, end=\" \")\n",
    "\n"
   ]
  },
  {
   "cell_type": "code",
   "execution_count": 99,
   "metadata": {},
   "outputs": [
    {
     "name": "stdout",
     "output_type": "stream",
     "text": [
      "sum of these two numbers is 30\n"
     ]
    }
   ],
   "source": [
    "#22 write a code that uses a lamda function to calculate the sum of two numbers.\n",
    "\n",
    "#code\n",
    "\n",
    "sum = lambda x,y: x+y\n",
    "result = sum(20,10)\n",
    "print(f\"sum of these two numbers is {result}\")"
   ]
  },
  {
   "cell_type": "code",
   "execution_count": 101,
   "metadata": {},
   "outputs": [
    {
     "name": "stdout",
     "output_type": "stream",
     "text": [
      "square of a given number is 400\n"
     ]
    }
   ],
   "source": [
    "#23 write a code that uses a lamda function to calculate the square of a given number.\n",
    "\n",
    "#code \n",
    "sq = lambda x: x**2\n",
    "result = sq(20)\n",
    "print(f\"square of a given number is {result}\")"
   ]
  },
  {
   "cell_type": "code",
   "execution_count": 102,
   "metadata": {},
   "outputs": [
    {
     "name": "stdout",
     "output_type": "stream",
     "text": [
      "Given number is Odd\n"
     ]
    }
   ],
   "source": [
    "#24 write a code that uses a lamda function to check whether a given number is even or odd.\n",
    "\n",
    "#code\n",
    "checker = lambda x: \"Given number is Even\" if x%2==0 else \"Given number is Odd\"\n",
    "result = checker(9)\n",
    "print(result)"
   ]
  },
  {
   "cell_type": "code",
   "execution_count": 105,
   "metadata": {},
   "outputs": [
    {
     "name": "stdout",
     "output_type": "stream",
     "text": [
      "Welcome to Github\n"
     ]
    }
   ],
   "source": [
    "#25 write a code that uses a lamda function to concatenate two strings.\n",
    "\n",
    "#code\n",
    "result = lambda x,y: x+\" \"+y\n",
    "print(result(\"Welcome to\", \"Github\"))"
   ]
  },
  {
   "cell_type": "code",
   "execution_count": 106,
   "metadata": {},
   "outputs": [
    {
     "name": "stdout",
     "output_type": "stream",
     "text": [
      "700\n"
     ]
    }
   ],
   "source": [
    "#26 write a code that uses a lamda function to find the maximum of three given numbers.\n",
    "\n",
    "#code \n",
    "result = lambda x,y,z: max(x,y,z)\n",
    "print(result(200,700,210))"
   ]
  },
  {
   "cell_type": "markdown",
   "metadata": {},
   "source": [
    "#27 what is encapsulation in oops.\n",
    "\n",
    "Encapsulation is one of the fundamental concepts in Object-Oriented Programming (OOP). It refers to the bundling of data (attributes) and methods (functions) that operate on that data into a single unit known as a class. Encapsulation is primarily used to achieve data hiding and to control access to the internal state of an object.\n",
    "\n",
    "Data Hiding:\n",
    "\n",
    "==> Encapsulation restricts direct access to some of an object's components, which can prevent the accidental modification of data.\n",
    "==> It allows a class to expose only the necessary parts of its interface while keeping the internal state private.\n",
    "\n",
    "Access Modifiers:\n",
    "\n",
    "Encapsulation uses access modifiers to control the visibility of class members:\n",
    "==> Public: Members are accessible from outside the class.\n",
    "==> Private: Members are accessible only within the class itself.\n",
    "==> Protected: Members are accessible within the class and by subclasses.\n",
    "\n",
    "Getters and Setters:\n",
    "\n",
    "Encapsulation often uses methods known as getters and setters to provide controlled access to private attributes:\n",
    "==> Getters retrieve the value of an attribute.\n",
    "==> Setters set or update the value of an attribute, often with validation.\n",
    "\n",
    "Improved Maintainability:\n",
    "\n",
    "By hiding the internal state and requiring all interaction to be performed through well-defined methods, encapsulation helps to maintain and update the code more easily without affecting other parts of the program."
   ]
  },
  {
   "cell_type": "markdown",
   "metadata": {},
   "source": [
    "#28 Explain the use of access modifiers in python classes.\n",
    "\n",
    "1. Public Access Modifier\n",
    "\n",
    "Definition: Members (attributes and methods) defined without any leading underscores are public by default.\n",
    "Accessibility: Public members can be accessed from anywhere in the program, both inside and outside the class.\n",
    "\n",
    "2. Protected Access Modifier\n",
    "\n",
    "Definition: Members that are intended for internal use are prefixed with a single underscore (_).\n",
    "Accessibility: Protected members can be accessed within the class and by subclasses (derived classes), but they are not meant to be accessed directly from outside the class.\n",
    "\n",
    "3. Private Access Modifier\n",
    "\n",
    "Definition: Members that should not be accessed outside the class are prefixed with two underscores (__).\n",
    "Accessibility: Private members can only be accessed from within the class itself. They are not accessible from subclasses or from outside the class."
   ]
  },
  {
   "cell_type": "markdown",
   "metadata": {},
   "source": [
    "#29 what is inheritance in oop?\n",
    "\n",
    "Inheritance is a fundamental concept in Object-Oriented Programming (OOP) that allows a new class (called a subclass or derived class) to inherit attributes and methods from an existing class (called a superclass or base class). This promotes code reusability and establishes a relationship between classes.\n",
    "\n",
    "Key Points of Inheritance:\n",
    "\n",
    "1. Code Reusability: Inheritance allows a subclass to reuse the code (attributes and methods) defined in its superclass, reducing redundancy.\n",
    "\n",
    "2. Hierarchical Classification: Inheritance creates a hierarchical relationship between classes. For example, if Animal is a superclass, then Dog and Cat can be subclasses that inherit from it.\n",
    "\n",
    "3. Method Overriding: A subclass can provide a specific implementation of a method that is already defined in its superclass. This allows for polymorphism, where a subclass can modify or extend the behavior of the superclass.\n",
    "\n",
    "4. Multiple Inheritance: In some programming languages (like Python), a class can inherit from multiple classes, allowing it to combine features from more than one parent class.\n"
   ]
  },
  {
   "cell_type": "markdown",
   "metadata": {},
   "source": [
    "#30 Define polymorphism in oop?\n",
    "\n",
    "Polymorphism in Object-Oriented Programming (OOP) refers to the ability of different classes to be treated as instances of the same class through a common interface. It allows methods to perform differently based on the object that is invoking them.\n",
    "\n",
    "Key Points:\n",
    "Many Forms: The term \"polymorphism\" means \"many forms.\" It enables a single function or method to work with different types of objects.\n",
    "\n",
    "Types:\n",
    "\n",
    "1. Compile-Time Polymorphism: Achieved through method overloading (same method name with different parameters) or operator overloading (defining custom behavior for operators).\n",
    "\n",
    "2. Run-Time Polymorphism: Achieved through method overriding, where a subclass provides a specific implementation of a method that is already defined in its superclass."
   ]
  },
  {
   "cell_type": "code",
   "execution_count": 1,
   "metadata": {},
   "outputs": [
    {
     "name": "stdout",
     "output_type": "stream",
     "text": [
      "woof!\n",
      "Meow!\n"
     ]
    }
   ],
   "source": [
    "#31 Explain method overriding in python. \n",
    "\n",
    "#code\n",
    "#Definition: Method overriding occurs when a subclass provides a specific implementation of a method that is already defined in its superclass. This allows the subclass to provide its own behavior while still maintaining the same method signature.\n",
    "\n",
    "class Animal:\n",
    "    def speak(self):\n",
    "        return \"Animal Sound\"\n",
    "\n",
    "class Dog(Animal):\n",
    "    def speak(self):\n",
    "        return \"woof!\"\n",
    "    \n",
    "class Cat(Animal):\n",
    "    def speak(self):\n",
    "        return \"Meow!\"\n",
    "    \n",
    "def animal_sound(animal):\n",
    "    print(animal.speak())\n",
    "\n",
    "dog = Dog()\n",
    "cat = Cat()\n",
    "\n",
    "animal_sound(dog)\n",
    "animal_sound(cat)"
   ]
  },
  {
   "cell_type": "code",
   "execution_count": 6,
   "metadata": {},
   "outputs": [
    {
     "data": {
      "text/plain": [
       "'woof!'"
      ]
     },
     "execution_count": 6,
     "metadata": {},
     "output_type": "execute_result"
    }
   ],
   "source": [
    "#32 Define a parent class Animal with a method make_sound that prints \"Generic animal sound\". Create a child class Dog inheriting from Animal with a method make_sound that prints \"Woof\"\n",
    "\n",
    "#code\n",
    "class Animal:\n",
    "    def make_sound(self):\n",
    "        return \"Generic animal sound\"\n",
    "\n",
    "class Dog(Animal):\n",
    "    def make_sound(self):\n",
    "        return \"woof!\"\n",
    "    \n",
    "dog = Dog()\n",
    "dog.make_sound()"
   ]
  },
  {
   "cell_type": "code",
   "execution_count": 7,
   "metadata": {},
   "outputs": [
    {
     "name": "stdout",
     "output_type": "stream",
     "text": [
      "Animal moves\n",
      "Dog runs\n"
     ]
    }
   ],
   "source": [
    "#33 Define a method move in the Animal class that prints \"Animal moves\". Override the move method in the Dog class to print \"Dog runs.\"\n",
    "\n",
    "#code \n",
    "class Animal:\n",
    "    def move(self):\n",
    "        print(\"Animal moves\")\n",
    "\n",
    "class Dog(Animal):\n",
    "    def move(self):\n",
    "        print(\"Dog runs\")\n",
    "\n",
    "animal = Animal()\n",
    "dog = Dog()\n",
    "\n",
    "animal.move() #There is a method name move.\n",
    "dog.move() #overriding the same method with different behaviour."
   ]
  },
  {
   "cell_type": "code",
   "execution_count": 8,
   "metadata": {},
   "outputs": [
    {
     "name": "stdout",
     "output_type": "stream",
     "text": [
      "Dog runs\n",
      "Giving birth to live young.\n"
     ]
    }
   ],
   "source": [
    "#34 Create a class Mammal with a method reproduce that prints \"Giving birth to live young.\" Create a class DogMammal inheriting from both Dog and Mammal.\n",
    "\n",
    "#code \n",
    "class Animal:\n",
    "    def move(self):\n",
    "        print(\"Animal moves\")\n",
    "\n",
    "class Dog(Animal):\n",
    "    def move(self):\n",
    "        print(\"Dog runs\")\n",
    "\n",
    "class Mammal:\n",
    "    def reproduce(self):\n",
    "        print(\"Giving birth to live young.\")\n",
    "\n",
    "class DogMammal(Dog, Mammal):\n",
    "    pass\n",
    "\n",
    "dog_mammal = DogMammal()\n",
    "dog_mammal.move() #inherit the method from Dog class.\n",
    "dog_mammal.reproduce() #inherit the method from Mammal class."
   ]
  },
  {
   "cell_type": "code",
   "execution_count": 9,
   "metadata": {},
   "outputs": [
    {
     "name": "stdout",
     "output_type": "stream",
     "text": [
      "Bark!\n"
     ]
    }
   ],
   "source": [
    "#35 Create a class GermanShepherd inheriting from Dog and override the make_sound method to print \"Bark!\"\n",
    "\n",
    "#code\n",
    "class Animal:\n",
    "    def make_sound(self):\n",
    "        print(\"Generic animal sound\")\n",
    "\n",
    "class Dog(Animal):\n",
    "    def make_sound(self):\n",
    "        print(\"woof!\")\n",
    "\n",
    "class GermanShepherd(Dog):\n",
    "    def make_sound(self):\n",
    "        print(\"Bark!\")\n",
    "\n",
    "german_shephered = GermanShepherd()\n",
    "german_shephered.make_sound()"
   ]
  },
  {
   "cell_type": "code",
   "execution_count": 4,
   "metadata": {},
   "outputs": [
    {
     "name": "stdout",
     "output_type": "stream",
     "text": [
      "Animal name: Lion\n",
      "Age: 5\n",
      "Animal name: Buddy\n",
      "Age: 3\n",
      "Breed: Golden Retriever\n"
     ]
    }
   ],
   "source": [
    "#36 Define constructors in both the Animal and Dog classes with different initialization parameters.\n",
    "\n",
    "#code \n",
    "class Animal:\n",
    "    def __init__(self, name, age):\n",
    "        self.name = name\n",
    "        self.age = age\n",
    "\n",
    "    def display(self):\n",
    "        print(f\"Animal name: {self.name}\")\n",
    "        print(f\"Age: {self.age}\")\n",
    "\n",
    "class Dog(Animal):\n",
    "    def __init__(self, name, age, breed):\n",
    "        super().__init__(name, age)\n",
    "        self.breed = breed\n",
    "\n",
    "    def display(self):\n",
    "        super().display()\n",
    "        print(f\"Breed: {self.breed}\")\n",
    "\n",
    "animal = Animal(\"Lion\", 5)\n",
    "animal.display()\n",
    "\n",
    "dog = Dog(\"Buddy\", 3, \"Golden Retriever\")\n",
    "dog.display()"
   ]
  },
  {
   "cell_type": "markdown",
   "metadata": {},
   "source": [
    "#37 What is abstraction in Python? How is it implemented?\n",
    "\n",
    "Answer:\n",
    "\n",
    "Abstraction in Python is a fundamental concept in object-oriented programming (OOP) that allows us to hide the complex implementation details of a system and expose only the necessary parts to the user. It helps in reducing complexity by providing a simplified view of the underlying functionality.\n",
    "\n",
    "implementation of Abstraction in Python:\n",
    "In Python, abstraction can be implemented using abstract classes and interfaces. The abc module (Abstract Base Classes) is used for this purpose.\n",
    "\n",
    "Steps to Implement Abstraction:\n",
    "\n",
    "Define an Abstract Class: Use the ABC class from the abc module to create an abstract base class.\n",
    "Define Abstract Methods: Use the @abstractmethod decorator to define methods that must be implemented by subclasses."
   ]
  },
  {
   "cell_type": "code",
   "execution_count": 1,
   "metadata": {},
   "outputs": [
    {
     "name": "stdout",
     "output_type": "stream",
     "text": [
      "Bark\n",
      "Meow\n"
     ]
    }
   ],
   "source": [
    "from abc import ABC, abstractmethod\n",
    "\n",
    "class Animal(ABC):\n",
    "    @abstractmethod\n",
    "    def sound(self):\n",
    "        \"\"\"Abstract method for animal sound.\"\"\"\n",
    "        pass\n",
    "\n",
    "class Dog(Animal):\n",
    "    def sound(self):\n",
    "        \"\"\"Implement the sound method for Dog.\"\"\"\n",
    "        return \"Bark\"\n",
    "\n",
    "class Cat(Animal):\n",
    "    def sound(self):\n",
    "        \"\"\"Implement the sound method for Cat.\"\"\"\n",
    "        return \"Meow\"\n",
    "\n",
    "def animal_sound(animal: Animal):\n",
    "    print(animal.sound())\n",
    "\n",
    "dog = Dog()\n",
    "cat = Cat()\n",
    "\n",
    "animal_sound(dog)  # Output: Bark\n",
    "animal_sound(cat)  # Output: Meow\n"
   ]
  },
  {
   "cell_type": "markdown",
   "metadata": {},
   "source": [
    "#38 Explain the importance of abstraction in object-oriented programming.\n",
    "\n",
    "1. Simplification of Complex Systems\n",
    "2. Encapsulation of Data\n",
    "3. Improved Code Reusability\n",
    "4. Enhanced Maintainability\n",
    "5. Support for Polymorphism\n",
    "\n",
    "abstraction is a foundational concept in object-oriented programming that enhances the design, development, and maintenance of software systems. It enables developers to build more robust, flexible, and user-friendly applications while simplifying complex systems and promoting effective collaboration among team members. By leveraging abstraction, programmers can create solutions that are easier to understand, modify, and extend over time."
   ]
  },
  {
   "cell_type": "markdown",
   "metadata": {},
   "source": [
    "#39 How are abstract methods different from regular methods in Python?\n",
    "\n",
    "Abstract Methods:\n",
    "\n",
    "Abstract methods are declared in an abstract class (a class that inherits from the ABC class from the abc module) and are meant to be implemented by subclasses.\n",
    "They serve as a blueprint for subclasses, ensuring that certain methods must be defined in any concrete subclass.\n",
    "They define a contract that subclasses must adhere to, promoting a consistent interface across different implementations.\n",
    "Regular Methods:\n",
    "\n",
    "Regular methods are defined in classes and can have their own implementations.\n",
    "They are typically used to define behaviors or actions that an object can perform and can be called directly on instances of the class.\n",
    "Regular methods can be optional for subclasses to implement; subclasses can choose to override them but are not required to do so."
   ]
  },
  {
   "cell_type": "code",
   "execution_count": 2,
   "metadata": {},
   "outputs": [
    {
     "ename": "TypeError",
     "evalue": "Can't instantiate abstract class Animal without an implementation for abstract method 'sound'",
     "output_type": "error",
     "traceback": [
      "\u001b[1;31m---------------------------------------------------------------------------\u001b[0m",
      "\u001b[1;31mTypeError\u001b[0m                                 Traceback (most recent call last)",
      "Cell \u001b[1;32mIn[2], line 9\u001b[0m\n\u001b[0;32m      6\u001b[0m         \u001b[38;5;28;01mpass\u001b[39;00m  \u001b[38;5;66;03m# No implementation\u001b[39;00m\n\u001b[0;32m      8\u001b[0m \u001b[38;5;66;03m# This will raise an error\u001b[39;00m\n\u001b[1;32m----> 9\u001b[0m animal \u001b[38;5;241m=\u001b[39m \u001b[43mAnimal\u001b[49m\u001b[43m(\u001b[49m\u001b[43m)\u001b[49m  \u001b[38;5;66;03m# TypeError: Can't instantiate abstract class Animal\u001b[39;00m\n",
      "\u001b[1;31mTypeError\u001b[0m: Can't instantiate abstract class Animal without an implementation for abstract method 'sound'"
     ]
    }
   ],
   "source": [
    "from abc import ABC, abstractmethod\n",
    "\n",
    "class Animal(ABC):\n",
    "    @abstractmethod\n",
    "    def sound(self):\n",
    "        pass  # No implementation\n",
    "\n",
    "# This will raise an error\n",
    "animal = Animal()  # TypeError: Can't instantiate abstract class Animal\n"
   ]
  },
  {
   "cell_type": "code",
   "execution_count": 3,
   "metadata": {},
   "outputs": [
    {
     "name": "stdout",
     "output_type": "stream",
     "text": [
      "Bark\n"
     ]
    }
   ],
   "source": [
    "class Dog:\n",
    "    def bark(self):\n",
    "        return \"Bark\"  # Implementation provided\n",
    "\n",
    "dog = Dog()  # This works fine\n",
    "print(dog.bark())  # Output: Bark\n"
   ]
  },
  {
   "cell_type": "code",
   "execution_count": 7,
   "metadata": {},
   "outputs": [
    {
     "name": "stdout",
     "output_type": "stream",
     "text": [
      "Bark\n",
      "Runs\n",
      "Meow\n",
      "Walks\n"
     ]
    }
   ],
   "source": [
    "#40 How can you achieve abstraction using interfaces in Python?\n",
    "\n",
    "#code \n",
    "\n",
    "#Step 1: Import the Required Module\n",
    "from abc import ABC, abstractmethod\n",
    "\n",
    "#Step 2: Define an Abstract Base Class\n",
    "class Animal(ABC):\n",
    "    \n",
    "    @abstractmethod\n",
    "    def sound(self):\n",
    "        \"\"\"Return the sound made by the animal.\"\"\"\n",
    "        pass\n",
    "\n",
    "    @abstractmethod\n",
    "    def move(self):\n",
    "        \"\"\"Return how the animal moves.\"\"\"\n",
    "        pass\n",
    "\n",
    "#Step 3: Implement Concrete Subclasses\n",
    "class Dog(Animal):\n",
    "    \n",
    "    def sound(self):\n",
    "        return \"Bark\"\n",
    "    \n",
    "    def move(self):\n",
    "        return \"Runs\"\n",
    "\n",
    "class Cat(Animal):\n",
    "    \n",
    "    def sound(self):\n",
    "        return \"Meow\"\n",
    "    \n",
    "    def move(self):\n",
    "        return \"Walks\"\n",
    "    \n",
    "#Step 4: Use the Interface\n",
    "def animal_sound(animal):\n",
    "    print(animal.sound())\n",
    "\n",
    "def animal_move(animal):\n",
    "    print(animal.move())\n",
    "\n",
    "# Create instances of the subclasses\n",
    "dog = Dog()\n",
    "cat = Cat()\n",
    "\n",
    "# Call the methods\n",
    "animal_sound(dog)  # Output: Bark\n",
    "animal_move(dog)   # Output: Runs\n",
    "\n",
    "animal_sound(cat)  # Output: Meow\n",
    "animal_move(cat)   # Output: Walks\n",
    "\n"
   ]
  },
  {
   "cell_type": "code",
   "execution_count": 8,
   "metadata": {},
   "outputs": [
    {
     "name": "stdout",
     "output_type": "stream",
     "text": [
      "Car Info:\n",
      "Car engine started.\n",
      "Maximum speed: 150 km/h\n",
      "Car engine stopped.\n",
      "\n",
      "Motorcycle Info:\n",
      "Motorcycle engine started.\n",
      "Maximum speed: 180 km/h\n",
      "Motorcycle engine stopped.\n"
     ]
    }
   ],
   "source": [
    "#41 Can you provide an example of how abstraction can be utilized to create a common interface for a group of related classes in Python?\n",
    "\n",
    "#code\n",
    "#Step 1: Define the Abstract Base Class\n",
    "from abc import ABC, abstractmethod\n",
    "\n",
    "class Vehicle(ABC):\n",
    "    \n",
    "    @abstractmethod\n",
    "    def start_engine(self):\n",
    "        \"\"\"Start the vehicle's engine.\"\"\"\n",
    "        pass\n",
    "    \n",
    "    @abstractmethod\n",
    "    def stop_engine(self):\n",
    "        \"\"\"Stop the vehicle's engine.\"\"\"\n",
    "        pass\n",
    "    \n",
    "    @abstractmethod\n",
    "    def max_speed(self) -> int:\n",
    "        \"\"\"Return the maximum speed of the vehicle.\"\"\"\n",
    "        pass\n",
    "\n",
    "#Step 2: Implement Concrete Subclasses\n",
    "class Car(Vehicle):\n",
    "    \n",
    "    def start_engine(self):\n",
    "        print(\"Car engine started.\")\n",
    "    \n",
    "    def stop_engine(self):\n",
    "        print(\"Car engine stopped.\")\n",
    "    \n",
    "    def max_speed(self) -> int:\n",
    "        return 150  # Maximum speed in km/h\n",
    "\n",
    "\n",
    "class Motorcycle(Vehicle):\n",
    "    \n",
    "    def start_engine(self):\n",
    "        print(\"Motorcycle engine started.\")\n",
    "    \n",
    "    def stop_engine(self):\n",
    "        print(\"Motorcycle engine stopped.\")\n",
    "    \n",
    "    def max_speed(self) -> int:\n",
    "        return 180  # Maximum speed in km/h\n",
    "\n",
    "#Step 3: Utilize the Common Interface\n",
    "def vehicle_info(vehicle: Vehicle):\n",
    "    vehicle.start_engine()\n",
    "    print(f\"Maximum speed: {vehicle.max_speed()} km/h\")\n",
    "    vehicle.stop_engine()\n",
    "\n",
    "# Create instances of Car and Motorcycle\n",
    "car = Car()\n",
    "motorcycle = Motorcycle()\n",
    "\n",
    "# Use the common interface\n",
    "print(\"Car Info:\")\n",
    "vehicle_info(car)\n",
    "\n",
    "print(\"\\nMotorcycle Info:\")\n",
    "vehicle_info(motorcycle)\n"
   ]
  },
  {
   "cell_type": "code",
   "execution_count": 9,
   "metadata": {},
   "outputs": [
    {
     "name": "stdout",
     "output_type": "stream",
     "text": [
      "Bark\n",
      "Meow\n"
     ]
    }
   ],
   "source": [
    "#42 How does Python achieve polymorphism through method overriding?\n",
    "\n",
    "#code\n",
    "#Step 1: Define a Base Class\n",
    "class Animal:\n",
    "    def make_sound(self):\n",
    "        return \"Some sound\"\n",
    "\n",
    "#Step 2: Define Subclasses with Overridden Methods\n",
    "class Dog(Animal):\n",
    "    def make_sound(self):\n",
    "        return \"Bark\"\n",
    "\n",
    "class Cat(Animal):\n",
    "    def make_sound(self):\n",
    "        return \"Meow\"\n",
    "\n",
    "#Step 3: Use Polymorphism\n",
    "\n",
    "#We can create a function that takes an Animal type and calls the make_sound method. \n",
    "#This demonstrates polymorphism, as the same method call behaves differently depending on the actual object type.\n",
    "\n",
    "def animal_sound(animal):\n",
    "    print(animal.make_sound())\n",
    "\n",
    "# Create instances of Dog and Cat\n",
    "dog = Dog()\n",
    "cat = Cat()\n",
    "\n",
    "# Call the function with different types of animals\n",
    "animal_sound(dog)  # Output: Bark\n",
    "animal_sound(cat)  # Output: Meow\n"
   ]
  },
  {
   "cell_type": "code",
   "execution_count": 14,
   "metadata": {},
   "outputs": [
    {
     "name": "stdout",
     "output_type": "stream",
     "text": [
      "Woof!\n"
     ]
    }
   ],
   "source": [
    "#43 Define a base class with a method and a subclass that overrides the method.\n",
    "\n",
    "#code\n",
    "class Animal:\n",
    "    def make_sound(self):\n",
    "        print(\"animal sound\")\n",
    "\n",
    "class Dog(Animal):\n",
    "    def make_sound(self):\n",
    "        print(\"Woof!\")\n",
    "    \n",
    "dog = Dog()\n",
    "dog.make_sound()"
   ]
  },
  {
   "cell_type": "code",
   "execution_count": 15,
   "metadata": {},
   "outputs": [
    {
     "name": "stdout",
     "output_type": "stream",
     "text": [
      "Woof!\n",
      "Meow!\n",
      "Some Other Sound!\n"
     ]
    }
   ],
   "source": [
    "#44 Define a base class and multiple subclasses with overridden methods.\n",
    "\n",
    "#code\n",
    "class Animal:\n",
    "    def make_sound(self):\n",
    "        print(\"animal sound\")\n",
    "\n",
    "class Dog(Animal):\n",
    "    def make_sound(self):\n",
    "        print(\"Woof!\")\n",
    "\n",
    "class Cat(Animal):\n",
    "    def make_sound(self):\n",
    "        print(\"Meow!\")\n",
    "\n",
    "class Others(Animal):\n",
    "    def make_sound(self):\n",
    "        print(\"Some Other Sound!\")\n",
    "    \n",
    "dog = Dog()\n",
    "cat = Cat()\n",
    "other = Others()\n",
    "\n",
    "dog.make_sound()\n",
    "cat.make_sound()\n",
    "other.make_sound()"
   ]
  },
  {
   "cell_type": "markdown",
   "metadata": {},
   "source": [
    "#45 How does polymorphism improve code readability and reusability?\n",
    "\n",
    "Answer:\n",
    "polymorphism enhances code readability and reusability by providing a unified interface for different classes, reducing complexity, enabling easier maintenance and extension, improving flexibility, and simplifying testing. These advantages lead to cleaner, more maintainable code that can be easily adapted to changing requirements, resulting in a more efficient development process."
   ]
  },
  {
   "cell_type": "code",
   "execution_count": 16,
   "metadata": {},
   "outputs": [
    {
     "name": "stdout",
     "output_type": "stream",
     "text": [
      "Flying high!\n",
      "Jetting through the sky!\n"
     ]
    }
   ],
   "source": [
    "#46 Describe how Python supports polymorphism with duck typing.\n",
    "\n",
    "#code\n",
    "\n",
    "#Python supports polymorphism through the concept of duck typing, which is a programming style that focuses on an object's behavior (methods and properties) rather than its specific type. \n",
    "#The term \"duck typing\" comes from the saying, \"If it looks like a duck and quacks like a duck, it must be a duck.\" In other words, if an object implements the necessary methods and attributes, it can be treated as a particular type, regardless of its actual class.\n",
    "\n",
    "class Bird:\n",
    "    def fly(self):\n",
    "        return \"Flying high!\"\n",
    "\n",
    "class Airplane:\n",
    "    def fly(self):\n",
    "        return \"Jetting through the sky!\"\n",
    "\n",
    "class Fish:\n",
    "    def swim(self):\n",
    "        return \"Swimming deep!\"\n",
    "\n",
    "def let_it_fly(thing):\n",
    "    print(thing.fly())  # Expecting an object that can \"fly\"\n",
    "\n",
    "# Instances of classes\n",
    "sparrow = Bird()\n",
    "boeing = Airplane()\n",
    "goldfish = Fish()\n",
    "\n",
    "# These calls will work due to duck typing\n",
    "let_it_fly(sparrow)  # Output: Flying high!\n",
    "let_it_fly(boeing)   # Output: Jetting through the sky!"
   ]
  },
  {
   "cell_type": "code",
   "execution_count": 17,
   "metadata": {},
   "outputs": [
    {
     "name": "stdout",
     "output_type": "stream",
     "text": [
      "42\n",
      "This is a private method\n"
     ]
    }
   ],
   "source": [
    "#47 How do you achieve encapsulation in Python.\n",
    "\n",
    "#code\n",
    "#Encapsulation is a fundamental concept in object-oriented programming (OOP) that restricts direct access to some of an object's attributes and methods.\n",
    "#In Python, encapsulation can be achieved through the use of private and protected attributes and methods.\n",
    "\n",
    "#Example:\n",
    "class MyClass:\n",
    "    def __init__(self):\n",
    "        self.__private_variable = 42  # Private attribute\n",
    "\n",
    "    def __private_method(self):  # Private method\n",
    "        return \"This is a private method\"\n",
    "\n",
    "    def get_private_variable(self):\n",
    "        return self.__private_variable\n",
    "\n",
    "    def call_private_method(self):\n",
    "        return self.__private_method()\n",
    "\n",
    "obj = MyClass()\n",
    "print(obj.get_private_variable())  # Output: 42\n",
    "print(obj.call_private_method())  # Output: This is a private method\n",
    "\n",
    "# Attempting to access private attributes/methods will result in an AttributeError\n",
    "# print(obj.__private_variable)  # Raises AttributeError\n",
    "# print(obj.__private_method())  # Raises AttributeError\n"
   ]
  },
  {
   "cell_type": "markdown",
   "metadata": {},
   "source": [
    "#48 Can encapsulation be bypassed in Python? If so, how?\n",
    "\n",
    "Yes, encapsulation in Python can be bypassed, as Python does not enforce strict access controls like some other programming languages (e.g., Java or C++). While encapsulation is primarily achieved through naming conventions (like using single or double underscores), it relies on the discipline of developers to respect these conventions."
   ]
  },
  {
   "cell_type": "code",
   "execution_count": 18,
   "metadata": {},
   "outputs": [
    {
     "name": "stdout",
     "output_type": "stream",
     "text": [
      "42\n"
     ]
    }
   ],
   "source": [
    "class MyClass:\n",
    "    def __init__(self):\n",
    "        self.__private_variable = 42\n",
    "\n",
    "# Example usage\n",
    "obj = MyClass()\n",
    "# Accessing the private variable using name mangling\n",
    "print(obj._MyClass__private_variable)  # Output: 42\n"
   ]
  },
  {
   "cell_type": "code",
   "execution_count": 26,
   "metadata": {},
   "outputs": [
    {
     "name": "stdout",
     "output_type": "stream",
     "text": [
      "1000\n",
      "500\n",
      "Not enough balance\n"
     ]
    }
   ],
   "source": [
    "#49 Implement a class BankAccount with a private balance attribute. Include methods to deposit, withdraw, and check the balance.\n",
    "\n",
    "#code\n",
    "class BankAccount:\n",
    "    def __init__(self, initial_balance = 0):\n",
    "        self.__balance = initial_balance\n",
    "\n",
    "    def deposit(self, deposit_money):\n",
    "        self.__balance += deposit_money\n",
    "\n",
    "    def withdraw(self, withdraw_money):\n",
    "        if(withdraw_money>self.__balance):\n",
    "            print(\"Not enough balance\")\n",
    "            return\n",
    "        self.__balance -= withdraw_money\n",
    "\n",
    "    def check_balance(self):\n",
    "        print(self.__balance)\n",
    "\n",
    "bank = BankAccount()\n",
    "bank.deposit(1000)\n",
    "bank.check_balance()\n",
    "bank.withdraw(500)\n",
    "bank.check_balance()\n",
    "bank.withdraw(550)\n"
   ]
  },
  {
   "cell_type": "code",
   "execution_count": 35,
   "metadata": {},
   "outputs": [
    {
     "name": "stdout",
     "output_type": "stream",
     "text": [
      "Enter a valid Email\n"
     ]
    },
    {
     "data": {
      "text/plain": [
       "'mayankapoor111@gmail.com'"
      ]
     },
     "execution_count": 35,
     "metadata": {},
     "output_type": "execute_result"
    }
   ],
   "source": [
    "#50 Develop a Person class with private attributes name and email, and methods to set and get the email.\n",
    "\n",
    "#code\n",
    "class Person:\n",
    "    def __init__(self, name, email):\n",
    "        self.__name = name\n",
    "        self.__email = email\n",
    "\n",
    "    def get_email(self):\n",
    "        return self.__email\n",
    "    \n",
    "    def set_email(self, email):\n",
    "        if '@' in email and '.' in email:\n",
    "            self.__email = email\n",
    "        else:\n",
    "            print(\"Enter a valid Email\")\n",
    "\n",
    "p1 = Person(\"Mayank\", \"mayankapoor015@gmail.com\")\n",
    "p1.set_email(\"mayank\")\n",
    "p1.set_email(\"mayankapoor111@gmail.com\")\n",
    "p1.get_email()\n"
   ]
  },
  {
   "cell_type": "markdown",
   "metadata": {},
   "source": [
    "#51 Why is encapsulation considered a pillar of object-oriented programming (OOP)?\n",
    "\n",
    "Answer:\n",
    "Encapsulation is a key pillar of OOP because it promotes:\n",
    "\n",
    "==>Data Protection: It hides an object's internal state, preventing unauthorized access or modifications, ensuring data security and integrity.\n",
    "\n",
    "==>Controlled Access: Through methods (getters and setters), encapsulation controls how attributes are accessed and modified, allowing validation and preventing invalid states.\n",
    "\n",
    "==>Modularity: It keeps the internal implementation of a class separate from its interface, allowing changes to the implementation without affecting other parts of the code.\n",
    "\n",
    "==>Maintainability: By restricting direct access to internal details, encapsulation simplifies debugging and code management, making the system more maintainable and less prone to errors.\n",
    "\n",
    "In essence, encapsulation helps ensure that objects maintain a well-defined and controlled state, crucial for building reliable software."
   ]
  },
  {
   "cell_type": "code",
   "execution_count": 38,
   "metadata": {},
   "outputs": [
    {
     "name": "stdout",
     "output_type": "stream",
     "text": [
      "Before the function execution.\n",
      "Hello, World!\n",
      "After the function execution.\n"
     ]
    }
   ],
   "source": [
    "#52 Create a decorator in Python that adds functionality to a simple function by printing a message before and after the function execution.\n",
    "\n",
    "#code\n",
    "# Define the decorator\n",
    "def my_decorator(func):\n",
    "    def wrapper():\n",
    "        print(\"Before the function execution.\")\n",
    "        func()  # Call the original function\n",
    "        print(\"After the function execution.\")\n",
    "    return wrapper\n",
    "\n",
    "# Define a simple function\n",
    "@my_decorator\n",
    "def say_hello():\n",
    "    print(\"Hello, World!\")\n",
    "\n",
    "# Call the decorated function\n",
    "say_hello()"
   ]
  },
  {
   "cell_type": "code",
   "execution_count": 40,
   "metadata": {},
   "outputs": [
    {
     "name": "stdout",
     "output_type": "stream",
     "text": [
      "Before executing 'greet'\n",
      "Hello, Alice\n",
      "After executing 'greet'\n",
      "Before executing 'greet'\n",
      "Hi, Bob\n",
      "After executing 'greet'\n"
     ]
    }
   ],
   "source": [
    "#53 Modify the decorator to accept arguments and print the function name along with the message.\n",
    "\n",
    "#code\n",
    "def my_decorator(func):\n",
    "    def wrapper(*args, **kwargs):\n",
    "        print(f\"Before executing '{func.__name__}'\")\n",
    "        result = func(*args, **kwargs)\n",
    "        print(f\"After executing '{func.__name__}'\")\n",
    "        return result\n",
    "    return wrapper\n",
    "\n",
    "@my_decorator\n",
    "def greet(name, greeting=\"Hello\"):\n",
    "    print(f\"{greeting}, {name}\")\n",
    "\n",
    "greet(\"Alice\")\n",
    "greet(\"Bob\", \"Hi\")"
   ]
  },
  {
   "cell_type": "code",
   "execution_count": 46,
   "metadata": {},
   "outputs": [
    {
     "name": "stdout",
     "output_type": "stream",
     "text": [
      "Before mydecorator one\n",
      "Before mydecorator two\n",
      "Hello World..!!\n",
      "After mydecorator two\n",
      "After mydecorator one\n"
     ]
    }
   ],
   "source": [
    "#54 Create two decorators, and apply them to a single function. Ensure that they execute in the order they are applied.\n",
    "\n",
    "#code\n",
    "def mydecorator_one(func):\n",
    "    def wrapper():\n",
    "        print(\"Before mydecorator one\")\n",
    "        func()\n",
    "        print(\"After mydecorator one\")\n",
    "    return wrapper\n",
    "\n",
    "def mydecorator_two(func):\n",
    "    def wrapper():\n",
    "        print(\"Before mydecorator two\")\n",
    "        func()\n",
    "        print(\"After mydecorator two\")\n",
    "    return wrapper\n",
    "\n",
    "@mydecorator_one\n",
    "@mydecorator_two\n",
    "def say_hello():\n",
    "    print(\"Hello World..!!\")\n",
    "\n",
    "say_hello()"
   ]
  },
  {
   "cell_type": "code",
   "execution_count": 47,
   "metadata": {},
   "outputs": [
    {
     "name": "stdout",
     "output_type": "stream",
     "text": [
      "Before mydecorator two\n",
      "Before mydecorator one\n",
      "Hello, Alice!\n",
      "After mydecorator one\n",
      "After mydecorator two\n"
     ]
    }
   ],
   "source": [
    "#55 Modify the decorator to accept and pass function arguments to the wrapped function.\n",
    "\n",
    "#code \n",
    "def mydecorator_one(func):\n",
    "    def wrapper(*args, **kwargs):\n",
    "        print(\"Before mydecorator one\")\n",
    "        result = func(*args, **kwargs)  # Call the original function with arguments\n",
    "        print(\"After mydecorator one\")\n",
    "        return result  # Return the result of the original function\n",
    "    return wrapper\n",
    "\n",
    "def mydecorator_two(func):\n",
    "    def wrapper(*args, **kwargs):\n",
    "        print(\"Before mydecorator two\")\n",
    "        result = func(*args, **kwargs)  # Call the original function with arguments\n",
    "        print(\"After mydecorator two\")\n",
    "        return result  # Return the result of the original function\n",
    "    return wrapper\n",
    "\n",
    "@mydecorator_two\n",
    "@mydecorator_one\n",
    "def say_hello(name):\n",
    "    print(f\"Hello, {name}!\")\n",
    "\n",
    "# Call the decorated function with an argument\n",
    "say_hello(\"Alice\")\n"
   ]
  },
  {
   "cell_type": "code",
   "execution_count": 48,
   "metadata": {},
   "outputs": [
    {
     "name": "stdout",
     "output_type": "stream",
     "text": [
      "Before the function execution.\n",
      "Hello, Alice!\n",
      "After the function execution.\n",
      "say_hello\n",
      "This function greets a person by name.\n"
     ]
    }
   ],
   "source": [
    "#56 Create a decorator that preserves the metadata of the original function.\n",
    "\n",
    "#code\n",
    "#To create a decorator that preserves the metadata of the original function, We can use the functools.wraps decorator. \n",
    "#This built-in decorator updates the wrapper function to look like the original function by copying its metadata, such as the name and docstring.\n",
    "\n",
    "import functools\n",
    "\n",
    "def my_decorator(func):\n",
    "    @functools.wraps(func)  # Preserve metadata of the original function\n",
    "    def wrapper(*args, **kwargs):\n",
    "        print(\"Before the function execution.\")\n",
    "        result = func(*args, **kwargs)  # Call the original function\n",
    "        print(\"After the function execution.\")\n",
    "        return result  # Return the result of the original function\n",
    "    return wrapper\n",
    "\n",
    "@my_decorator\n",
    "def say_hello(name):\n",
    "    \"\"\"This function greets a person by name.\"\"\"\n",
    "    print(f\"Hello, {name}!\")\n",
    "\n",
    "# Call the decorated function\n",
    "say_hello(\"Alice\")\n",
    "\n",
    "# Check the metadata of the original function\n",
    "print(say_hello.__name__)      # Output: say_hello\n",
    "print(say_hello.__doc__)       # Output: This function greets a person by name.\n"
   ]
  },
  {
   "cell_type": "code",
   "execution_count": 53,
   "metadata": {},
   "outputs": [
    {
     "name": "stdout",
     "output_type": "stream",
     "text": [
      "The sum is: 7\n"
     ]
    }
   ],
   "source": [
    "#57 Create a Python class `Calculator` with a static method `add` that takes in two numbers and returns their sum.\n",
    "\n",
    "#code\n",
    "class Calculator:\n",
    "    @staticmethod\n",
    "    def add(num1, num2):\n",
    "        return num1 + num2\n",
    "\n",
    "# Example usage\n",
    "result = Calculator.add(2, 5)\n",
    "print(f\"The sum is: {result}\")\n"
   ]
  },
  {
   "cell_type": "code",
   "execution_count": 58,
   "metadata": {},
   "outputs": [
    {
     "name": "stdout",
     "output_type": "stream",
     "text": [
      "Total number of employees: 3\n"
     ]
    }
   ],
   "source": [
    "#58 Create a Python class `Employee` with a class `method get_employee_count` that returns the total number of employees created.\n",
    "\n",
    "#code \n",
    "class Employee:\n",
    "    # Class variable to keep track of the employee count\n",
    "    employee_count = 0\n",
    "\n",
    "    def __init__(self, name):\n",
    "        self.name = name\n",
    "        Employee.employee_count += 1  # Increment the employee count whenever a new employee is created\n",
    "\n",
    "    @classmethod\n",
    "    def get_employee_count(cls):\n",
    "        return cls.employee_count  # Return the total employee count\n",
    "\n",
    "emp1 = Employee(\"Alice\")\n",
    "emp2 = Employee(\"Bob\")\n",
    "emp3 = Employee(\"Charlie\")\n",
    "\n",
    "# Get the total number of employees\n",
    "total_employees = Employee.get_employee_count()\n",
    "print(f\"Total number of employees: {total_employees}\")\n"
   ]
  },
  {
   "cell_type": "code",
   "execution_count": 59,
   "metadata": {},
   "outputs": [
    {
     "data": {
      "text/plain": [
       "'knayaM'"
      ]
     },
     "execution_count": 59,
     "metadata": {},
     "output_type": "execute_result"
    }
   ],
   "source": [
    "#59 Create a Python class `StringFormatter` with a static method `reverse_string` that takes a string as input and return its reverse.\n",
    "\n",
    "#code\n",
    "class StringFormatter:\n",
    "\n",
    "    @staticmethod\n",
    "    def reverse_string(inp_str):\n",
    "        return inp_str[::-1]\n",
    "    \n",
    "StringFormatter.reverse_string(\"Mayank\")"
   ]
  },
  {
   "cell_type": "code",
   "execution_count": 61,
   "metadata": {},
   "outputs": [
    {
     "data": {
      "text/plain": [
       "78.5"
      ]
     },
     "execution_count": 61,
     "metadata": {},
     "output_type": "execute_result"
    }
   ],
   "source": [
    "#60 Create a Python class `Circle` with a class method `calculate_area` that calculates the area of a circle given its radius.\n",
    "\n",
    "#code\n",
    "class Circle:\n",
    "    @classmethod\n",
    "    def calculate_area(cls, radius):\n",
    "        return 3.14* radius**2\n",
    "    \n",
    "Circle.calculate_area(5)"
   ]
  },
  {
   "cell_type": "code",
   "execution_count": 62,
   "metadata": {},
   "outputs": [
    {
     "data": {
      "text/plain": [
       "77.0"
      ]
     },
     "execution_count": 62,
     "metadata": {},
     "output_type": "execute_result"
    }
   ],
   "source": [
    "#61 Create a Python class `TemperatureConverter` with a static method `celsius_to_fahrenheit` that converts Celsius to Fahrenheit.\n",
    "\n",
    "#code\n",
    "class TemperatureConverter:\n",
    "    @staticmethod\n",
    "    def celsius_to_fahrenheit(celsius):\n",
    "        return (celsius * 9/5) + 32\n",
    "    \n",
    "TemperatureConverter.celsius_to_fahrenheit(25)"
   ]
  },
  {
   "cell_type": "markdown",
   "metadata": {},
   "source": [
    "#62 What is the purpose of the __str__() method in Python classes? Provide an example.\n",
    "\n",
    "Answer:\n",
    "The __str__() method in Python is a special method used to define a human-readable string representation of an object. When you call str() on an object or use the print() function, Python automatically invokes the __str__() method to get the string representation of the object. This method is particularly useful for providing a clear and concise output that conveys the essential information about the object."
   ]
  },
  {
   "cell_type": "code",
   "execution_count": 63,
   "metadata": {},
   "outputs": [
    {
     "name": "stdout",
     "output_type": "stream",
     "text": [
      "Person(Name: Alice, Age: 30)\n"
     ]
    }
   ],
   "source": [
    "#Example\n",
    "\n",
    "class Person:\n",
    "    def __init__(self, name, age):\n",
    "        self.name = name\n",
    "        self.age = age\n",
    "\n",
    "    def __str__(self):\n",
    "        return f\"Person(Name: {self.name}, Age: {self.age})\"\n",
    "\n",
    "# Example usage\n",
    "person = Person(\"Alice\", 30)\n",
    "print(person)  # Calls the __str__() method\n",
    "\n"
   ]
  },
  {
   "cell_type": "markdown",
   "metadata": {},
   "source": [
    "#63 How does the __len__() method work in Python? Provide an example.\n",
    "\n",
    "Answer:\n",
    "The __len__() method in Python is a special method used to define the behavior of the built-in len() function for a class. When you call len() on an instance of a class that has a __len__() method defined, Python will invoke that method to determine the length of the object."
   ]
  },
  {
   "cell_type": "code",
   "execution_count": 64,
   "metadata": {},
   "outputs": [
    {
     "name": "stdout",
     "output_type": "stream",
     "text": [
      "The length of my_list is: 5\n"
     ]
    }
   ],
   "source": [
    "#Example\n",
    "\n",
    "class CustomList:\n",
    "    def __init__(self, elements):\n",
    "        self.elements = elements\n",
    "\n",
    "    def __len__(self):\n",
    "        return len(self.elements)  # Return the length of the internal list\n",
    "\n",
    "# Example usage\n",
    "my_list = CustomList([1, 2, 3, 4, 5])\n",
    "print(f\"The length of my_list is: {len(my_list)}\")  # Calls the __len__() method\n"
   ]
  },
  {
   "cell_type": "markdown",
   "metadata": {},
   "source": [
    "#64 Explain the usage of the __add__() method in Python classes. Provide an example.\n",
    "\n",
    "Answer:\n",
    "In Python, the __add__() method is a special method (also called a magic method or dunder method) that allows us to define the behavior of the + operator when it is used with objects of a class. By defining this method, we can control how instances of your class behave when they are added together using the + operator.\n",
    "\n",
    "How it Works:=>\n",
    "\n",
    "1. The __add__() method is automatically called when the + operator is used between two objects.\n",
    "2. The self parameter refers to the object on the left-hand side of the + operator.\n",
    "3. The other parameter refers to the object on the right-hand side of the + operator.\n",
    "4. The method should return the result of the addition operation, which could be an object or any other data type depending on the context."
   ]
  },
  {
   "cell_type": "code",
   "execution_count": 1,
   "metadata": {},
   "outputs": [
    {
     "name": "stdout",
     "output_type": "stream",
     "text": [
      "Point(8, 11)\n"
     ]
    }
   ],
   "source": [
    "class Point:\n",
    "    def __init__(self, x, y):\n",
    "        self.x = x\n",
    "        self.y = y\n",
    "\n",
    "    def __add__(self, other):\n",
    "        if isinstance(other, Point):\n",
    "            return Point(self.x + other.x, self.y + other.y)\n",
    "        return NotImplemented\n",
    "\n",
    "    def __repr__(self):\n",
    "        return f\"Point({self.x}, {self.y})\"\n",
    "\n",
    "# Create two points\n",
    "point1 = Point(3, 4)\n",
    "point2 = Point(5, 7)\n",
    "\n",
    "# Use the + operator to add the two points\n",
    "result = point1 + point2\n",
    "\n",
    "print(result)\n"
   ]
  },
  {
   "cell_type": "markdown",
   "metadata": {},
   "source": [
    "#65 What is the purpose of the __getitem__() method in Python? Provide an example.\n",
    "\n",
    "Answer:\n",
    "The __getitem__() method in Python is a special (or \"magic\") method that allows an object to support indexing and slicing operations using square brackets, like lists or dictionaries. When you define the __getitem__() method in a class, you can use the bracket notation ([]) to access elements in instances of that class.\n",
    "\n",
    "Purpose of __getitem__():=>\n",
    "\n",
    "1. It defines how an object responds to being indexed.\n",
    "2. Allows objects of a class to behave like containers (such as lists, dictionaries, or tuples).\n",
    "3. It is called automatically when an instance of a class is indexed using square brackets, e.g., obj[index]."
   ]
  },
  {
   "cell_type": "code",
   "execution_count": 4,
   "metadata": {},
   "outputs": [
    {
     "name": "stdout",
     "output_type": "stream",
     "text": [
      "10\n",
      "40\n",
      "50\n"
     ]
    }
   ],
   "source": [
    "class CustomList:\n",
    "    def __init__(self, data):\n",
    "        self.data = data  # Store the list of data in the instance\n",
    "\n",
    "    def __getitem__(self, index):\n",
    "        return self.data[index]  # Return the item at the given index\n",
    "\n",
    "# Create an instance of CustomList with some data\n",
    "my_list = CustomList([10, 20, 30, 40, 50])\n",
    "\n",
    "# Use indexing to access elements\n",
    "print(my_list[0])  # Output: 10\n",
    "print(my_list[3])  # Output: 40\n",
    "print(my_list[-1]) # Output: 50"
   ]
  },
  {
   "cell_type": "markdown",
   "metadata": {},
   "source": [
    "#66 Explain the usage of the __iter__() and __next__() methods in Python. Provide an example using iterators.\n",
    "\n",
    "Answer:\n",
    "__iter__() and __next__() are special methods that allow a class to be used as an iterator. An iterator is an object that can be iterated over, meaning you can traverse through its elements one at a time.\n",
    "\n",
    "1. __iter__(): This method is used to initialize or reset the iterator. It returns the iterator object itself and is called when an iteration is started, for example, when using for loops.\n",
    "2. __next__(): This method is used to fetch the next value in the iteration. It should raise a StopIteration exception when there are no more items to return."
   ]
  },
  {
   "cell_type": "code",
   "execution_count": 14,
   "metadata": {},
   "outputs": [
    {
     "name": "stdout",
     "output_type": "stream",
     "text": [
      "1\n",
      "2\n",
      "3\n",
      "4\n",
      "5\n"
     ]
    },
    {
     "ename": "StopIteration",
     "evalue": "",
     "output_type": "error",
     "traceback": [
      "\u001b[1;31m---------------------------------------------------------------------------\u001b[0m",
      "\u001b[1;31mStopIteration\u001b[0m                             Traceback (most recent call last)",
      "Cell \u001b[1;32mIn[14], line 25\u001b[0m\n\u001b[0;32m     23\u001b[0m \u001b[38;5;28mprint\u001b[39m(counter\u001b[38;5;241m.\u001b[39m\u001b[38;5;21m__next__\u001b[39m())\n\u001b[0;32m     24\u001b[0m \u001b[38;5;28mprint\u001b[39m(counter\u001b[38;5;241m.\u001b[39m\u001b[38;5;21m__next__\u001b[39m())\n\u001b[1;32m---> 25\u001b[0m \u001b[38;5;28mprint\u001b[39m(\u001b[43mcounter\u001b[49m\u001b[38;5;241;43m.\u001b[39;49m\u001b[38;5;21;43m__next__\u001b[39;49m\u001b[43m(\u001b[49m\u001b[43m)\u001b[49m) \u001b[38;5;66;03m#Exception will raise in this\u001b[39;00m\n",
      "Cell \u001b[1;32mIn[14], line 15\u001b[0m, in \u001b[0;36mCounter.__next__\u001b[1;34m(self)\u001b[0m\n\u001b[0;32m     13\u001b[0m     \u001b[38;5;28;01mreturn\u001b[39;00m value\n\u001b[0;32m     14\u001b[0m \u001b[38;5;28;01melse\u001b[39;00m:\n\u001b[1;32m---> 15\u001b[0m     \u001b[38;5;28;01mraise\u001b[39;00m \u001b[38;5;167;01mStopIteration\u001b[39;00m\n",
      "\u001b[1;31mStopIteration\u001b[0m: "
     ]
    }
   ],
   "source": [
    "class Counter:\n",
    "    def __init__(self, start, end):\n",
    "        self.current = start\n",
    "        self.end = end\n",
    "\n",
    "    def __iter__(self):\n",
    "        return self  # The iterator object returns itself\n",
    "\n",
    "    def __next__(self):\n",
    "        if self.current <= self.end:\n",
    "            value = self.current\n",
    "            self.current += 1  # Move to the next number\n",
    "            return value\n",
    "        else:\n",
    "            raise StopIteration  # No more numbers to return\n",
    "\n",
    "# Create an instance of Counter that counts from 1 to 5\n",
    "counter = Counter(1, 5)\n",
    "\n",
    "print(counter.__next__())\n",
    "print(counter.__next__())\n",
    "print(counter.__next__())\n",
    "print(counter.__next__())\n",
    "print(counter.__next__())\n",
    "print(counter.__next__()) #Exception will raise in this line\n",
    "\n"
   ]
  },
  {
   "cell_type": "markdown",
   "metadata": {},
   "source": [
    "#67 What is the purpose of a getter method in Python? Provide an example demonstrating the use of a getter method using property decorator.\n",
    "\n",
    "Answer:\n",
    "A getter method in Python is used to retrieve the value of an attribute, typically providing controlled access to an internal class property. It allows for encapsulation by allowing you to control how and when the value of an attribute can be accessed, which can be useful for validation, calculations, or transformations.\n",
    "\n",
    "In Python, we can use the @property decorator to create getter methods in a more Pythonic way. This allows us to access the method like an attribute without needing explicit method calls."
   ]
  },
  {
   "cell_type": "code",
   "execution_count": 22,
   "metadata": {},
   "outputs": [
    {
     "name": "stdout",
     "output_type": "stream",
     "text": [
      "25\n",
      "77.0\n"
     ]
    }
   ],
   "source": [
    "class Temperature:\n",
    "    def __init__(self, celsius):\n",
    "        self.__celsius = celsius\n",
    "\n",
    "    @property\n",
    "    def celsius(self):\n",
    "        return self.__celsius # Getter for Celsius\n",
    "\n",
    "    @property\n",
    "    def fahrenheit(self):\n",
    "        # Convert Celsius to Fahrenheit when accessed\n",
    "        return (self.__celsius * 9/5) + 32\n",
    "\n",
    "# Create an instance of Temperature\n",
    "temp = Temperature(25)\n",
    "\n",
    "# Access the Celsius value (via getter)\n",
    "print(temp.celsius)  \n",
    "\n",
    "# Access the Fahrenheit value (via getter)\n",
    "print(temp.fahrenheit) \n"
   ]
  },
  {
   "cell_type": "markdown",
   "metadata": {},
   "source": [
    "#68 Explain the role of setter methods in Python. Demonstrate how to use a setter method to modify a class attribute using property decorator.\n",
    "\n",
    "Answer:\n",
    "In Python, a setter method is used to set or modify the value of an attribute, allowing controlled access to private or protected attributes. Setters provide a way to enforce constraints or validations before changing the attribute’s value, which can help protect data integrity.\n",
    "\n",
    "By using the @property decorator along with the @attribute_name.setter decorator, we can create both getter and setter methods for an attribute in a Pythonic way."
   ]
  },
  {
   "cell_type": "code",
   "execution_count": 30,
   "metadata": {},
   "outputs": [
    {
     "name": "stdout",
     "output_type": "stream",
     "text": [
      "25\n",
      "30\n"
     ]
    }
   ],
   "source": [
    "class Temperature:\n",
    "    def __init__(self, celsius):\n",
    "        self.__celsius = celsius  # Initialize with a temperature in Celsius\n",
    "\n",
    "    @property\n",
    "    def celsius(self):\n",
    "        return self.__celsius  # Getter for Celsius\n",
    "\n",
    "    @celsius.setter\n",
    "    def celsius(self, value):\n",
    "        if value < -273.15:\n",
    "            raise ValueError(\"Temperature cannot be below absolute zero (-273.15°C).\")\n",
    "        self.__celsius = value  # Set the Celsius value if it's valid\n",
    "\n",
    "# Create an instance of Temperature\n",
    "temp = Temperature(25)\n",
    "\n",
    "# Access the Celsius value\n",
    "print(temp.celsius)  # Output: 25\n",
    "\n",
    "# Modify the Celsius value using the setter\n",
    "temp.celsius = 30\n",
    "print(temp.celsius)  # Output: 30"
   ]
  },
  {
   "cell_type": "markdown",
   "metadata": {},
   "source": [
    "#69 What is the purpose of the @property decorator in Python? Provide an example illustrating its usage.\n",
    "\n",
    "Answer:\n",
    "The @property decorator in Python is used to define getter methods for class attributes, allowing attributes to be accessed like standard variables while maintaining the benefits of encapsulation. With @property, we can define methods that retrieve or calculate values, which look and behave like regular attributes but may include additional logic for data validation, transformation, or calculation.\n",
    "\n",
    "The @property decorator makes it easy to add behavior around getting and setting values without requiring changes to how the attribute is accessed or set from outside the class.\n",
    "\n",
    "Purpose of the @property Decorator:\n",
    "\n",
    "1. Encapsulation: Provides controlled access to private attributes by enabling custom logic in getter and setter methods.\n",
    "2. Attribute Protection: Allows for validation, transformation, or even read-only attributes.\n",
    "3. Pythonic Syntax: Allows access to methods as if they were regular attributes, making the class interface simpler and more intuitive."
   ]
  },
  {
   "cell_type": "code",
   "execution_count": 45,
   "metadata": {},
   "outputs": [
    {
     "name": "stdout",
     "output_type": "stream",
     "text": [
      "Len: 2\n",
      "Wid: 3\n",
      "Area is 6\n",
      "Len: 3\n",
      "Wid: 4\n",
      "Area is 12\n"
     ]
    }
   ],
   "source": [
    "class Rectangle:\n",
    "    def __init__(self, length, width):\n",
    "        self.__length = length\n",
    "        self.__width = width\n",
    "\n",
    "    @property\n",
    "    def length(self):\n",
    "        return self.__length\n",
    "    \n",
    "    @length.setter\n",
    "    def length(self, value):\n",
    "        self.__length = value\n",
    "\n",
    "    @property\n",
    "    def width(self):\n",
    "        return self.__width\n",
    "    \n",
    "    @width.setter\n",
    "    def width(self, value):\n",
    "        self.__width = value\n",
    "\n",
    "    @property\n",
    "    def area(self):\n",
    "        return self.__length * self.__width\n",
    "    \n",
    "rect = Rectangle(2,3)\n",
    "\n",
    "#Access the length and width\n",
    "print(\"Len:\",rect.length)\n",
    "print(\"Wid:\",rect.width)\n",
    "\n",
    "#Access the area\n",
    "print(\"Area is\", rect.area)\n",
    "\n",
    "#Access the Updated length and width\n",
    "rect.length = 3\n",
    "rect.width = 4\n",
    "print(\"Len:\",rect.length)\n",
    "print(\"Wid:\",rect.width)\n",
    "\n",
    "#Access the Updated area\n",
    "print(\"Area is\", rect.area)"
   ]
  },
  {
   "cell_type": "markdown",
   "metadata": {},
   "source": [
    "#70 Explain the use of the @deleter decorator in Python property decorators. Provide a code example demonstrating its application.\n",
    "\n",
    "Answer:\n",
    "The @deleter decorator in Python is used to define a deletion method for a property in a class, allowing controlled deletion of an attribute. This decorator is applied to a method that handles the deletion logic for an attribute, letting us intercept or manage cleanup tasks when an attribute is deleted. This is part of Python’s property decorators, which include @property, @attribute.setter, and @attribute.deleter.\n",
    "\n",
    "Purpose of @deleter:\n",
    "\n",
    "1. Controlled Deletion: It allows you to specify custom logic when deleting an attribute.\n",
    "2. Encapsulation: It protects against direct deletion by managing how and when the attribute can be removed.\n",
    "3. Cleanup Tasks: You can perform additional tasks (e.g., releasing resources or resetting values) when the attribute is deleted."
   ]
  },
  {
   "cell_type": "code",
   "execution_count": 48,
   "metadata": {},
   "outputs": [
    {
     "name": "stdout",
     "output_type": "stream",
     "text": [
      "Age before deletion: 30\n",
      "Deleting age for Alice...\n",
      "Age after deletion: None\n"
     ]
    }
   ],
   "source": [
    "class Person:\n",
    "    def __init__(self, name, age):\n",
    "        self.name = name\n",
    "        self._age = age  # protected attribute\n",
    "    \n",
    "    @property\n",
    "    def age(self):\n",
    "        return self._age  # Getter for age\n",
    "\n",
    "    @age.setter\n",
    "    def age(self, value):\n",
    "        if value < 0:\n",
    "            raise ValueError(\"Age cannot be negative.\")\n",
    "        self._age = value  # Setter for age\n",
    "\n",
    "    @age.deleter\n",
    "    def age(self):\n",
    "        print(f\"Deleting age for {self.name}...\")\n",
    "        self._age = None  # Reset age to None\n",
    "\n",
    "# Create an instance of Person\n",
    "person = Person(\"Alice\", 30)\n",
    "\n",
    "# Access the age property\n",
    "print(\"Age before deletion:\", person.age)  # Output: Age before deletion: 30\n",
    "\n",
    "# Delete the age property\n",
    "del person.age  # This will call the age deleter\n",
    "\n",
    "# Check the age after deletion\n",
    "print(\"Age after deletion:\", person.age)  # Output: Age after deletion: None\n"
   ]
  },
  {
   "cell_type": "markdown",
   "metadata": {},
   "source": [
    "#71 How does encapsulation relate to property decorators in Python? Provide an example showcasing encapsulation using property decorator.\n",
    "\n",
    "Answer:\n",
    "Encapsulation in object-oriented programming refers to the concept of restricting direct access to some of an object’s attributes and methods to protect the internal state of the object. This allows data to be hidden (private or protected) and accessed or modified only through well-defined interfaces (getter and setter methods).\n",
    "\n",
    "In Python, encapsulation can be achieved using property decorators. The @property decorator allows you to create methods that can control access to private attributes. By using property decorators (i.e., @property, @setter, and @deleter), we can encapsulate private attributes and control how they are accessed and modified, enforcing validations or additional logic if needed."
   ]
  },
  {
   "cell_type": "code",
   "execution_count": 50,
   "metadata": {},
   "outputs": [
    {
     "name": "stdout",
     "output_type": "stream",
     "text": [
      "Alice's balance: 1000\n",
      "Balance after deposit: 1500\n",
      "Balance after withdrawal: 1200\n"
     ]
    }
   ],
   "source": [
    "class BankAccount:\n",
    "    def __init__(self, owner, balance):\n",
    "        self.owner = owner\n",
    "        self._balance = balance  # Private attribute\n",
    "\n",
    "    @property\n",
    "    def balance(self):\n",
    "        \"\"\"Getter method to access balance.\"\"\"\n",
    "        return self._balance\n",
    "\n",
    "    @balance.setter\n",
    "    def balance(self, amount):\n",
    "        \"\"\"Setter method to control how balance is set.\"\"\"\n",
    "        if amount < 0:\n",
    "            raise ValueError(\"Balance cannot be negative.\")\n",
    "        self._balance = amount\n",
    "\n",
    "    def deposit(self, amount):\n",
    "        \"\"\"Method to deposit money into the account.\"\"\"\n",
    "        if amount > 0:\n",
    "            self._balance += amount\n",
    "        else:\n",
    "            raise ValueError(\"Deposit amount must be positive.\")\n",
    "\n",
    "    def withdraw(self, amount):\n",
    "        \"\"\"Method to withdraw money from the account, ensuring balance remains non-negative.\"\"\"\n",
    "        if 0 < amount <= self._balance:\n",
    "            self._balance -= amount\n",
    "        else:\n",
    "            raise ValueError(\"Invalid withdrawal amount or insufficient funds.\")\n",
    "\n",
    "# Example usage:\n",
    "account = BankAccount(\"Alice\", 1000)\n",
    "\n",
    "# Access balance using the property (getter)\n",
    "print(f\"{account.owner}'s balance: {account.balance}\")  # Output: Alice's balance: 1000\n",
    "\n",
    "# Deposit money\n",
    "account.deposit(500)\n",
    "print(f\"Balance after deposit: {account.balance}\")  # Output: Balance after deposit: 1500\n",
    "\n",
    "# Withdraw money\n",
    "account.withdraw(300)\n",
    "print(f\"Balance after withdrawal: {account.balance}\")  # Output: Balance after withdrawal: 1200\n"
   ]
  }
 ],
 "metadata": {
  "kernelspec": {
   "display_name": "Python 3",
   "language": "python",
   "name": "python3"
  },
  "language_info": {
   "codemirror_mode": {
    "name": "ipython",
    "version": 3
   },
   "file_extension": ".py",
   "mimetype": "text/x-python",
   "name": "python",
   "nbconvert_exporter": "python",
   "pygments_lexer": "ipython3",
   "version": "3.12.7"
  }
 },
 "nbformat": 4,
 "nbformat_minor": 2
}
